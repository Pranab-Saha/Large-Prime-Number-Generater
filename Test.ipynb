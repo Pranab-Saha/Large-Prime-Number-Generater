{
 "cells": [
  {
   "cell_type": "code",
   "execution_count": 1,
   "metadata": {},
   "outputs": [
    {
     "name": "stdout",
     "output_type": "stream",
     "text": [
      "Collecting beautifulsoup4\n",
      "  Downloading beautifulsoup4-4.9.1-py3-none-any.whl (115 kB)\n",
      "\u001b[K     |████████████████████████████████| 115 kB 3.1 MB/s eta 0:00:01\n",
      "\u001b[?25hCollecting soupsieve>1.2\n",
      "  Downloading soupsieve-2.0.1-py3-none-any.whl (32 kB)\n",
      "Installing collected packages: soupsieve, beautifulsoup4\n",
      "Successfully installed beautifulsoup4-4.9.1 soupsieve-2.0.1\n",
      "Note: you may need to restart the kernel to use updated packages.\n"
     ]
    }
   ],
   "source": [
    "pip install beautifulsoup4\n"
   ]
  },
  {
   "cell_type": "code",
   "execution_count": 2,
   "metadata": {},
   "outputs": [
    {
     "name": "stdout",
     "output_type": "stream",
     "text": [
      "{'AP': '110',\n",
      " 'Attack': '225',\n",
      " 'Cost': '80',\n",
      " 'Dexterity': '168',\n",
      " 'HP': '2079',\n",
      " 'Jump': '2',\n",
      " 'Luck': '149',\n",
      " 'Magic ': '64',\n",
      " 'Move': '3',\n",
      " 'Range': '1',\n",
      " 'Speed': '62',\n",
      " 'TP': '117'}\n"
     ]
    }
   ],
   "source": [
    "import requests\n",
    "from bs4 import BeautifulSoup\n",
    "#pagetoparse = requests.get(\"http://example.webscraping.com/\")\n",
    "#print(pagetoparse.text)\n",
    "url = 'http://wotvffbe.gamea.co/c/5vdp3v91'\n",
    "soup = BeautifulSoup(requests.get(url).content, 'html.parser')\n",
    "\n",
    "table = soup.select_one('th:contains(\"Cost\")').find_parent('table')\n",
    "d = dict([(th.text, td.text) for th, td in zip(table.select('th'), table.select('td'))])\n",
    "\n",
    "# pretty print it to screen:\n",
    "from pprint import pprint\n",
    "pprint(d)"
   ]
  },
  {
   "cell_type": "code",
   "execution_count": null,
   "metadata": {},
   "outputs": [],
   "source": []
  }
 ],
 "metadata": {
  "kernelspec": {
   "display_name": "Python 3",
   "language": "python",
   "name": "python3"
  },
  "language_info": {
   "codemirror_mode": {
    "name": "ipython",
    "version": 3
   },
   "file_extension": ".py",
   "mimetype": "text/x-python",
   "name": "python",
   "nbconvert_exporter": "python",
   "pygments_lexer": "ipython3",
   "version": "3.7.6"
  }
 },
 "nbformat": 4,
 "nbformat_minor": 4
}
